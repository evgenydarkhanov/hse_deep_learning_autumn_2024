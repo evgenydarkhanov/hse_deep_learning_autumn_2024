{
 "cells": [
  {
   "cell_type": "code",
   "execution_count": 1,
   "id": "8c91dceb-68eb-474e-bac9-8f460c98c753",
   "metadata": {},
   "outputs": [],
   "source": [
    "%%capture\n",
    "!pip install -r requirements.txt"
   ]
  },
  {
   "cell_type": "code",
   "execution_count": 2,
   "id": "cb5f5699-dd5c-49f1-9a5f-6dbd7639c534",
   "metadata": {},
   "outputs": [
    {
     "name": "stdout",
     "output_type": "stream",
     "text": [
      "/home/darhanovev/edu/HSE/neural_networks/hw6/src/hw_utils.py:398: FutureWarning: You are using `torch.load` with `weights_only=False` (the current default value), which uses the default pickle module implicitly. It is possible to construct malicious pickle data which will execute arbitrary code during unpickling (See https://github.com/pytorch/pytorch/blob/main/SECURITY.md#untrusted-models for more details). In a future release, the default value for `weights_only` will be flipped to `True`. This limits the functions that could be executed during unpickling. Arbitrary objects will no longer be allowed to be loaded via this mode unless they are explicitly allowlisted by the user via `torch.serialization.add_safe_globals`. We recommend you start setting `weights_only=True` for any use case where you don't have full control of the loaded file. Please open an issue on GitHub for any issues related to this experimental feature.\n",
      "  load_checkpoint(torch.load(LOAD_MODEL_FILE, map_location=DEVICE), model, optimizer)\n",
      "=> Loading checkpoint\n",
      "Test mAP: 0.1768936663866043\n"
     ]
    }
   ],
   "source": [
    "!python3 src/hw_utils.py"
   ]
  },
  {
   "cell_type": "code",
   "execution_count": null,
   "id": "adf87c74-dd88-4b2e-acf4-318ee1b11082",
   "metadata": {},
   "outputs": [],
   "source": []
  }
 ],
 "metadata": {
  "kernelspec": {
   "display_name": "Python 3.11",
   "language": "python",
   "name": "python3"
  },
  "language_info": {
   "codemirror_mode": {
    "name": "ipython",
    "version": 3
   },
   "file_extension": ".py",
   "mimetype": "text/x-python",
   "name": "python",
   "nbconvert_exporter": "python",
   "pygments_lexer": "ipython3",
   "version": "3.11.9"
  }
 },
 "nbformat": 4,
 "nbformat_minor": 5
}
